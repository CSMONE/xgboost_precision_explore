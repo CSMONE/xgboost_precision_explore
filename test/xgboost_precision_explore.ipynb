{
 "cells": [
  {
   "cell_type": "code",
   "execution_count": 323,
   "metadata": {
    "ExecuteTime": {
     "end_time": "2019-09-26T02:44:34.752587Z",
     "start_time": "2019-09-26T02:44:34.741587Z"
    }
   },
   "outputs": [],
   "source": [
    "import pandas as pd\n",
    "import numpy as np\n",
    "\n",
    "from sklearn.model_selection import train_test_split\n",
    "from sklearn_pandas import DataFrameMapper\n",
    "from sklearn.preprocessing import LabelBinarizer, OneHotEncoder, LabelEncoder\n",
    "\n",
    "from xgboost import XGBClassifier\n",
    "from lightgbm import LGBMClassifier\n",
    "from sklearn.ensemble import RandomForestClassifier, GradientBoostingClassifier\n",
    "\n",
    "from sklearn import metrics\n",
    "from scipy.stats import ks_2samp, chi2\n",
    "\n",
    "from sklearn.pipeline import Pipeline\n",
    "from sklearn.externals import joblib\n",
    "from sklearn2pmml import sklearn2pmml, PMMLPipeline\n",
    "from sklearn2pmml.decoration import CategoricalDomain\n",
    "\n",
    "import os\n",
    "\n",
    "import warnings\n",
    "warnings.filterwarnings(\"ignore\")"
   ]
  },
  {
   "cell_type": "code",
   "execution_count": 225,
   "metadata": {
    "ExecuteTime": {
     "end_time": "2019-09-26T01:20:41.233400Z",
     "start_time": "2019-09-26T01:20:41.194391Z"
    },
    "scrolled": true
   },
   "outputs": [
    {
     "data": {
      "text/html": [
       "<div>\n",
       "<style scoped>\n",
       "    .dataframe tbody tr th:only-of-type {\n",
       "        vertical-align: middle;\n",
       "    }\n",
       "\n",
       "    .dataframe tbody tr th {\n",
       "        vertical-align: top;\n",
       "    }\n",
       "\n",
       "    .dataframe thead th {\n",
       "        text-align: right;\n",
       "    }\n",
       "</style>\n",
       "<table border=\"1\" class=\"dataframe\">\n",
       "  <thead>\n",
       "    <tr style=\"text-align: right;\">\n",
       "      <th></th>\n",
       "      <th>PASSENGERID</th>\n",
       "      <th>SURVIVED</th>\n",
       "      <th>PCLASS</th>\n",
       "      <th>NAME</th>\n",
       "      <th>SEX</th>\n",
       "      <th>AGE</th>\n",
       "      <th>SIBSP</th>\n",
       "      <th>PARCH</th>\n",
       "      <th>TICKET</th>\n",
       "      <th>FARE</th>\n",
       "      <th>CABIN</th>\n",
       "      <th>EMBARKED</th>\n",
       "    </tr>\n",
       "  </thead>\n",
       "  <tbody>\n",
       "    <tr>\n",
       "      <th>0</th>\n",
       "      <td>1</td>\n",
       "      <td>0</td>\n",
       "      <td>3</td>\n",
       "      <td>Braund, Mr. Owen Harris</td>\n",
       "      <td>male</td>\n",
       "      <td>22.0</td>\n",
       "      <td>1</td>\n",
       "      <td>0</td>\n",
       "      <td>A/5 21171</td>\n",
       "      <td>7.2500</td>\n",
       "      <td>NaN</td>\n",
       "      <td>S</td>\n",
       "    </tr>\n",
       "    <tr>\n",
       "      <th>1</th>\n",
       "      <td>2</td>\n",
       "      <td>1</td>\n",
       "      <td>1</td>\n",
       "      <td>Cumings, Mrs. John Bradley (Florence Briggs Th...</td>\n",
       "      <td>female</td>\n",
       "      <td>38.0</td>\n",
       "      <td>1</td>\n",
       "      <td>0</td>\n",
       "      <td>PC 17599</td>\n",
       "      <td>71.2833</td>\n",
       "      <td>C85</td>\n",
       "      <td>C</td>\n",
       "    </tr>\n",
       "    <tr>\n",
       "      <th>2</th>\n",
       "      <td>3</td>\n",
       "      <td>1</td>\n",
       "      <td>3</td>\n",
       "      <td>Heikkinen, Miss. Laina</td>\n",
       "      <td>female</td>\n",
       "      <td>26.0</td>\n",
       "      <td>0</td>\n",
       "      <td>0</td>\n",
       "      <td>STON/O2. 3101282</td>\n",
       "      <td>7.9250</td>\n",
       "      <td>NaN</td>\n",
       "      <td>S</td>\n",
       "    </tr>\n",
       "    <tr>\n",
       "      <th>3</th>\n",
       "      <td>4</td>\n",
       "      <td>1</td>\n",
       "      <td>1</td>\n",
       "      <td>Futrelle, Mrs. Jacques Heath (Lily May Peel)</td>\n",
       "      <td>female</td>\n",
       "      <td>35.0</td>\n",
       "      <td>1</td>\n",
       "      <td>0</td>\n",
       "      <td>113803</td>\n",
       "      <td>53.1000</td>\n",
       "      <td>C123</td>\n",
       "      <td>S</td>\n",
       "    </tr>\n",
       "    <tr>\n",
       "      <th>4</th>\n",
       "      <td>5</td>\n",
       "      <td>0</td>\n",
       "      <td>3</td>\n",
       "      <td>Allen, Mr. William Henry</td>\n",
       "      <td>male</td>\n",
       "      <td>35.0</td>\n",
       "      <td>0</td>\n",
       "      <td>0</td>\n",
       "      <td>373450</td>\n",
       "      <td>8.0500</td>\n",
       "      <td>NaN</td>\n",
       "      <td>S</td>\n",
       "    </tr>\n",
       "  </tbody>\n",
       "</table>\n",
       "</div>"
      ],
      "text/plain": [
       "   PASSENGERID  SURVIVED  PCLASS  \\\n",
       "0            1         0       3   \n",
       "1            2         1       1   \n",
       "2            3         1       3   \n",
       "3            4         1       1   \n",
       "4            5         0       3   \n",
       "\n",
       "                                                NAME     SEX   AGE  SIBSP  \\\n",
       "0                            Braund, Mr. Owen Harris    male  22.0      1   \n",
       "1  Cumings, Mrs. John Bradley (Florence Briggs Th...  female  38.0      1   \n",
       "2                             Heikkinen, Miss. Laina  female  26.0      0   \n",
       "3       Futrelle, Mrs. Jacques Heath (Lily May Peel)  female  35.0      1   \n",
       "4                           Allen, Mr. William Henry    male  35.0      0   \n",
       "\n",
       "   PARCH            TICKET     FARE CABIN EMBARKED  \n",
       "0      0         A/5 21171   7.2500   NaN        S  \n",
       "1      0          PC 17599  71.2833   C85        C  \n",
       "2      0  STON/O2. 3101282   7.9250   NaN        S  \n",
       "3      0            113803  53.1000  C123        S  \n",
       "4      0            373450   8.0500   NaN        S  "
      ]
     },
     "execution_count": 225,
     "metadata": {},
     "output_type": "execute_result"
    }
   ],
   "source": [
    "train = pd.read_csv('data/train.csv')\n",
    "train.columns = [col.upper() for col in train.columns]\n",
    "train.head()"
   ]
  },
  {
   "cell_type": "code",
   "execution_count": 226,
   "metadata": {
    "ExecuteTime": {
     "end_time": "2019-09-26T01:20:41.736421Z",
     "start_time": "2019-09-26T01:20:41.701419Z"
    }
   },
   "outputs": [
    {
     "data": {
      "text/html": [
       "<div>\n",
       "<style scoped>\n",
       "    .dataframe tbody tr th:only-of-type {\n",
       "        vertical-align: middle;\n",
       "    }\n",
       "\n",
       "    .dataframe tbody tr th {\n",
       "        vertical-align: top;\n",
       "    }\n",
       "\n",
       "    .dataframe thead th {\n",
       "        text-align: right;\n",
       "    }\n",
       "</style>\n",
       "<table border=\"1\" class=\"dataframe\">\n",
       "  <thead>\n",
       "    <tr style=\"text-align: right;\">\n",
       "      <th></th>\n",
       "      <th>PASSENGERID</th>\n",
       "      <th>PCLASS</th>\n",
       "      <th>NAME</th>\n",
       "      <th>SEX</th>\n",
       "      <th>AGE</th>\n",
       "      <th>SIBSP</th>\n",
       "      <th>PARCH</th>\n",
       "      <th>TICKET</th>\n",
       "      <th>FARE</th>\n",
       "      <th>CABIN</th>\n",
       "      <th>EMBARKED</th>\n",
       "    </tr>\n",
       "  </thead>\n",
       "  <tbody>\n",
       "    <tr>\n",
       "      <th>0</th>\n",
       "      <td>892</td>\n",
       "      <td>3</td>\n",
       "      <td>Kelly, Mr. James</td>\n",
       "      <td>male</td>\n",
       "      <td>34.5</td>\n",
       "      <td>0</td>\n",
       "      <td>0</td>\n",
       "      <td>330911</td>\n",
       "      <td>7.8292</td>\n",
       "      <td>NaN</td>\n",
       "      <td>Q</td>\n",
       "    </tr>\n",
       "    <tr>\n",
       "      <th>1</th>\n",
       "      <td>893</td>\n",
       "      <td>3</td>\n",
       "      <td>Wilkes, Mrs. James (Ellen Needs)</td>\n",
       "      <td>female</td>\n",
       "      <td>47.0</td>\n",
       "      <td>1</td>\n",
       "      <td>0</td>\n",
       "      <td>363272</td>\n",
       "      <td>7.0000</td>\n",
       "      <td>NaN</td>\n",
       "      <td>S</td>\n",
       "    </tr>\n",
       "    <tr>\n",
       "      <th>2</th>\n",
       "      <td>894</td>\n",
       "      <td>2</td>\n",
       "      <td>Myles, Mr. Thomas Francis</td>\n",
       "      <td>male</td>\n",
       "      <td>62.0</td>\n",
       "      <td>0</td>\n",
       "      <td>0</td>\n",
       "      <td>240276</td>\n",
       "      <td>9.6875</td>\n",
       "      <td>NaN</td>\n",
       "      <td>Q</td>\n",
       "    </tr>\n",
       "    <tr>\n",
       "      <th>3</th>\n",
       "      <td>895</td>\n",
       "      <td>3</td>\n",
       "      <td>Wirz, Mr. Albert</td>\n",
       "      <td>male</td>\n",
       "      <td>27.0</td>\n",
       "      <td>0</td>\n",
       "      <td>0</td>\n",
       "      <td>315154</td>\n",
       "      <td>8.6625</td>\n",
       "      <td>NaN</td>\n",
       "      <td>S</td>\n",
       "    </tr>\n",
       "    <tr>\n",
       "      <th>4</th>\n",
       "      <td>896</td>\n",
       "      <td>3</td>\n",
       "      <td>Hirvonen, Mrs. Alexander (Helga E Lindqvist)</td>\n",
       "      <td>female</td>\n",
       "      <td>22.0</td>\n",
       "      <td>1</td>\n",
       "      <td>1</td>\n",
       "      <td>3101298</td>\n",
       "      <td>12.2875</td>\n",
       "      <td>NaN</td>\n",
       "      <td>S</td>\n",
       "    </tr>\n",
       "  </tbody>\n",
       "</table>\n",
       "</div>"
      ],
      "text/plain": [
       "   PASSENGERID  PCLASS                                          NAME     SEX  \\\n",
       "0          892       3                              Kelly, Mr. James    male   \n",
       "1          893       3              Wilkes, Mrs. James (Ellen Needs)  female   \n",
       "2          894       2                     Myles, Mr. Thomas Francis    male   \n",
       "3          895       3                              Wirz, Mr. Albert    male   \n",
       "4          896       3  Hirvonen, Mrs. Alexander (Helga E Lindqvist)  female   \n",
       "\n",
       "    AGE  SIBSP  PARCH   TICKET     FARE CABIN EMBARKED  \n",
       "0  34.5      0      0   330911   7.8292   NaN        Q  \n",
       "1  47.0      1      0   363272   7.0000   NaN        S  \n",
       "2  62.0      0      0   240276   9.6875   NaN        Q  \n",
       "3  27.0      0      0   315154   8.6625   NaN        S  \n",
       "4  22.0      1      1  3101298  12.2875   NaN        S  "
      ]
     },
     "execution_count": 226,
     "metadata": {},
     "output_type": "execute_result"
    }
   ],
   "source": [
    "test = pd.read_csv('data/test.csv')\n",
    "test.columns = [col.upper() for col in test.columns]\n",
    "test.head()"
   ]
  },
  {
   "cell_type": "code",
   "execution_count": 271,
   "metadata": {
    "ExecuteTime": {
     "end_time": "2019-09-26T01:50:25.825928Z",
     "start_time": "2019-09-26T01:50:25.813921Z"
    }
   },
   "outputs": [],
   "source": [
    "keep_cols = [col for col in train.columns if col not in ['SURVIVED', 'PASSENGERID']]\n",
    "X_train = train[['PASSENGERID'] + keep_cols]\n",
    "Y_train = train['SURVIVED']\n",
    "\n",
    "X_test = test[['PASSENGERID'] + keep_cols]"
   ]
  },
  {
   "cell_type": "code",
   "execution_count": 272,
   "metadata": {
    "ExecuteTime": {
     "end_time": "2019-09-26T01:50:27.987050Z",
     "start_time": "2019-09-26T01:50:26.587971Z"
    }
   },
   "outputs": [],
   "source": [
    "# 类别变量LabelEncoder\n",
    "char_cols = X_train[keep_cols].select_dtypes('object').columns\n",
    "\n",
    "for col in char_cols:\n",
    "    lbl = LabelEncoder()\n",
    "    lbl.fit(X_train[col].append(X_test[col]).astype(str))\n",
    "    X_train[col] = lbl.transform(X_train[col].astype(str))\n",
    "    X_test[col] = lbl.transform(X_test[col].astype(str))\n",
    "    \n",
    "# 导出测试集，用于pmml验证结果\n",
    "X_test.to_csv(r'data/X_test.csv')"
   ]
  },
  {
   "cell_type": "code",
   "execution_count": 274,
   "metadata": {
    "ExecuteTime": {
     "end_time": "2019-09-26T01:50:33.213367Z",
     "start_time": "2019-09-26T01:50:33.140347Z"
    }
   },
   "outputs": [
    {
     "data": {
      "text/plain": [
       "DataFrameMapper(default=False, df_out=False,\n",
       "        features=[(['PCLASS', 'AGE', 'SIBSP', 'PARCH', 'FARE'], None), (['NAME'], [CategoricalDomain(invalid_value_replacement=None,\n",
       "         invalid_value_treatment='as_is', missing_value_replacement=None,\n",
       "         missing_value_treatment='as_is', missing_values=None,\n",
       "         with_data=True, with_statisti...       dtype=<class 'numpy.float64'>, handle_unknown='ignore',\n",
       "       n_values=None, sparse=True)])],\n",
       "        input_df=False, sparse=False)"
      ]
     },
     "execution_count": 274,
     "metadata": {},
     "output_type": "execute_result"
    }
   ],
   "source": [
    "# 数据映射 类别性变量独热编码\n",
    "mapper = DataFrameMapper(\n",
    "    [(num_cols, None)] + [([char_col], [CategoricalDomain(invalid_value_treatment='as_is'),\n",
    "                          OneHotEncoder(handle_unknown='ignore')]) for char_col in char_cols]\n",
    ")\n",
    "\n",
    "# 拟合mapper，用mapper转换后再经过模型，效果等同经过mapper和模型的管道\n",
    "mapper.fit(X_train)"
   ]
  },
  {
   "cell_type": "code",
   "execution_count": 275,
   "metadata": {
    "ExecuteTime": {
     "end_time": "2019-09-26T01:50:34.062403Z",
     "start_time": "2019-09-26T01:50:34.025399Z"
    }
   },
   "outputs": [],
   "source": [
    "# 命令行代码，可调用jar包运行pmml\n",
    "import subprocess\n",
    "\n",
    "# sigmoid转换\n",
    "sigmoid1 = lambda x: 1 / (1 + np.exp(-x))\n",
    "sigmoid2 = lambda x: 1 / (1 + np.power(2.71828183, -x))\n",
    "\n",
    "# 调用jar包运行pmml\n",
    "def run_pmml_jar(command, verbose=True):\n",
    "    proc = subprocess.Popen(command, stdout=subprocess.PIPE, stderr=subprocess.STDOUT)\n",
    "    for line in proc.stdout:\n",
    "        if verbose:\n",
    "            print(line.strip().decode('gbk'))\n",
    "\n",
    "# 比较数据的小数位\n",
    "def compare_decimal(predict, col1, col2, digit=6):\n",
    "    compare_decimal = predict[(predict[col1].apply(lambda x: x[:digit + 2]) != predict[col2].apply(lambda x: x[:digit + 2]))]\n",
    "    return compare_decimal\n",
    "            \n",
    "# 差异信息\n",
    "def compare_decimal_info(predict, col1, col2, max_digit=9):\n",
    "    compare_decimal_info = pd.DataFrame(index=['完全一致'] + ['前%s位小数一致' % digit for digit in range(1, max_digit+1)],\n",
    "                                       columns=['样本数', '占比'])\n",
    "    data_count = predict.shape[0]\n",
    "    compare_decimal_info.loc['完全一致', '样本数'] = data_count - compare_decimal(predict, col1, col2, digit=20).shape[0]\n",
    "    for digit in range(1, max_digit+1):\n",
    "        compare_decimal_info.loc['前%s位小数一致' % digit, '样本数'] = data_count - compare_decimal(predict, col1, col2, digit=digit).shape[0]\n",
    "    \n",
    "    compare_decimal_info['占比'] = (compare_decimal_info['样本数'] / data_count).apply(lambda x: '%.4f%%' % (x * 100))\n",
    "    \n",
    "    return compare_decimal_info\n",
    "\n",
    "# 修改pmml文件得到所有叶节点和\n",
    "def modify_xgb_pmml(pmml_file_in, pmml_file_out):\n",
    "    with open(pmml_file_in, encoding='UTF-8') as original_pmml:\n",
    "        content = original_pmml.readlines()\n",
    "        \n",
    "    insert_index = [i for i, x in enumerate(content) if x.find('probability(1)') != -1][0]\n",
    "    output_add = []\n",
    "    tab_count = content[insert_index][:content[insert_index].find('<')]\n",
    "    output_add.append(tab_count + '<OutputField name=\"Group\" optype=\"continuous\" dataType=\"string\" feature=\"transformedValue\">\\n')\n",
    "    output_add.append(tab_count + '\\t<FieldRef field=\"xgbValue\"/>\\n')\n",
    "    output_add.append(tab_count + '</OutputField>\\n')\n",
    "    \n",
    "    for line in output_add:\n",
    "        insert_index += 1\n",
    "        content.insert(insert_index, line)\n",
    "\n",
    "    # 导出修改后的pmml\n",
    "    with open(pmml_file_out, 'w', encoding='UTF-8') as pmml:\n",
    "        for line in content:\n",
    "            pmml.write(line)\n",
    "            \n",
    "    print('pmml修改完成，输出为叶子节点和')\n",
    "\n",
    "# 修改pmml文件以测试\n",
    "def modify_xgb_pmml_test(pmml_file_in, pmml_file_out, test):\n",
    "    with open(pmml_file_in, encoding='UTF-8') as original_pmml:\n",
    "        content = original_pmml.readlines()\n",
    "    \n",
    "    if (test == 1) or (test == 3):\n",
    "        modify_index = [i for i, x in enumerate(content) if x.find('probability') != -1]\n",
    "        content[modify_index[0]] = content[modify_index[0]].replace('dataType=\"float\" ', '')\n",
    "        content[modify_index[1]] = content[modify_index[1]].replace('dataType=\"float\" ', '')\n",
    "    if (test == 2) or (test == 3):\n",
    "        modify_index = [i for i, x in enumerate(content) if x.find('normalizationMethod') != -1][0]\n",
    "        content[modify_index] = content[modify_index].replace(' x-mathContext=\"float\"', '')\n",
    "    \n",
    "    with open(pmml_file_out, 'w', encoding='UTF-8') as pmml:\n",
    "        for line in content:\n",
    "            pmml.write(line)\n",
    "            \n",
    "    print('pmml修改完成，输出为叶子节点和')"
   ]
  },
  {
   "cell_type": "markdown",
   "metadata": {},
   "source": [
    "### XGBoost"
   ]
  },
  {
   "cell_type": "code",
   "execution_count": 276,
   "metadata": {
    "ExecuteTime": {
     "end_time": "2019-09-26T01:50:46.355096Z",
     "start_time": "2019-09-26T01:50:34.159406Z"
    }
   },
   "outputs": [],
   "source": [
    "# 训练模型 \n",
    "xgb = XGBClassifier(random_state=1234)\n",
    "xgb_pmml = PMMLPipeline([('mapper', mapper), ('model', xgb)])\n",
    "xgb_pmml.fit(X_train, Y_train)\n",
    "\n",
    "# 导出模型文件\n",
    "# xgb_pmml._final_estimator.get_booster().dump_model(r'model_file/xgb_python.txt')\n",
    "sklearn2pmml(xgb_pmml, r'model_file/xgb_pmml.pmml', with_repr=True)"
   ]
  },
  {
   "cell_type": "markdown",
   "metadata": {},
   "source": [
    "#### 预测结果对比"
   ]
  },
  {
   "cell_type": "code",
   "execution_count": 277,
   "metadata": {
    "ExecuteTime": {
     "end_time": "2019-09-26T01:50:48.339220Z",
     "start_time": "2019-09-26T01:50:48.241207Z"
    }
   },
   "outputs": [],
   "source": [
    "# 导出python预测结果 + 未sigmoid转换的原始margin值\n",
    "xgb_predict_python = pd.DataFrame(xgb_pmml.predict_proba(X_test)).rename(columns={0:'proba_0', 1:'proba_1'})\n",
    "xgb_predict_python['PASSENGERID'] = X_test['PASSENGERID'].values\n",
    "xgb_predict_python.to_csv(r'python_predict/xgb_predict_python.csv')"
   ]
  },
  {
   "cell_type": "code",
   "execution_count": 278,
   "metadata": {
    "ExecuteTime": {
     "end_time": "2019-09-26T01:50:57.989771Z",
     "start_time": "2019-09-26T01:50:48.785240Z"
    }
   },
   "outputs": [
    {
     "name": "stdout",
     "output_type": "stream",
     "text": [
      "全部样本计算完成\n"
     ]
    }
   ],
   "source": [
    "# pmml预测概率值 + 未sigmoid转换的原始margin值\n",
    "run_pmml_jar(('java -jar pmml_predict/runpmml.jar data/X_test.csv model_file/xgb_pmml.pmml '\n",
    "             'pmml_predict/xgb_predict_pmml.csv PASSENGERID'))"
   ]
  },
  {
   "cell_type": "code",
   "execution_count": 379,
   "metadata": {
    "ExecuteTime": {
     "end_time": "2019-09-26T06:53:26.474044Z",
     "start_time": "2019-09-26T06:53:26.442040Z"
    },
    "scrolled": true
   },
   "outputs": [],
   "source": [
    "# 按字符读取预测结果，否则浮点容易被自动损失精度\n",
    "# 合并预测结果\n",
    "xgb_predict_python = pd.read_csv(r'python_predict/xgb_predict_python.csv', dtype='object')\n",
    "xgb_predict_pmml = pd.read_csv(r'pmml_predict/xgb_predict_pmml.csv', dtype='object')\n",
    "\n",
    "predict = pd.merge(xgb_predict_python[['PASSENGERID', 'proba_1']].rename(columns={'proba_1': 'python预测结果'}),\n",
    "        xgb_predict_pmml[['PASSENGERID', 'proba_1']].rename(columns={'proba_1': 'pmml预测结果'}), on='PASSENGERID')"
   ]
  },
  {
   "cell_type": "code",
   "execution_count": 380,
   "metadata": {
    "ExecuteTime": {
     "end_time": "2019-09-26T06:53:27.252087Z",
     "start_time": "2019-09-26T06:53:27.198082Z"
    }
   },
   "outputs": [
    {
     "data": {
      "text/html": [
       "<div>\n",
       "<style scoped>\n",
       "    .dataframe tbody tr th:only-of-type {\n",
       "        vertical-align: middle;\n",
       "    }\n",
       "\n",
       "    .dataframe tbody tr th {\n",
       "        vertical-align: top;\n",
       "    }\n",
       "\n",
       "    .dataframe thead th {\n",
       "        text-align: right;\n",
       "    }\n",
       "</style>\n",
       "<table border=\"1\" class=\"dataframe\">\n",
       "  <thead>\n",
       "    <tr style=\"text-align: right;\">\n",
       "      <th></th>\n",
       "      <th>样本数</th>\n",
       "      <th>占比</th>\n",
       "    </tr>\n",
       "  </thead>\n",
       "  <tbody>\n",
       "    <tr>\n",
       "      <th>完全一致</th>\n",
       "      <td>223</td>\n",
       "      <td>53.3493%</td>\n",
       "    </tr>\n",
       "    <tr>\n",
       "      <th>前1位小数一致</th>\n",
       "      <td>418</td>\n",
       "      <td>100.0000%</td>\n",
       "    </tr>\n",
       "    <tr>\n",
       "      <th>前2位小数一致</th>\n",
       "      <td>418</td>\n",
       "      <td>100.0000%</td>\n",
       "    </tr>\n",
       "    <tr>\n",
       "      <th>前3位小数一致</th>\n",
       "      <td>418</td>\n",
       "      <td>100.0000%</td>\n",
       "    </tr>\n",
       "    <tr>\n",
       "      <th>前4位小数一致</th>\n",
       "      <td>418</td>\n",
       "      <td>100.0000%</td>\n",
       "    </tr>\n",
       "    <tr>\n",
       "      <th>前5位小数一致</th>\n",
       "      <td>417</td>\n",
       "      <td>99.7608%</td>\n",
       "    </tr>\n",
       "    <tr>\n",
       "      <th>前6位小数一致</th>\n",
       "      <td>414</td>\n",
       "      <td>99.0431%</td>\n",
       "    </tr>\n",
       "    <tr>\n",
       "      <th>前7位小数一致</th>\n",
       "      <td>379</td>\n",
       "      <td>90.6699%</td>\n",
       "    </tr>\n",
       "    <tr>\n",
       "      <th>前8位小数一致</th>\n",
       "      <td>243</td>\n",
       "      <td>58.1340%</td>\n",
       "    </tr>\n",
       "    <tr>\n",
       "      <th>前9位小数一致</th>\n",
       "      <td>223</td>\n",
       "      <td>53.3493%</td>\n",
       "    </tr>\n",
       "  </tbody>\n",
       "</table>\n",
       "</div>"
      ],
      "text/plain": [
       "         样本数         占比\n",
       "完全一致     223   53.3493%\n",
       "前1位小数一致  418  100.0000%\n",
       "前2位小数一致  418  100.0000%\n",
       "前3位小数一致  418  100.0000%\n",
       "前4位小数一致  418  100.0000%\n",
       "前5位小数一致  417   99.7608%\n",
       "前6位小数一致  414   99.0431%\n",
       "前7位小数一致  379   90.6699%\n",
       "前8位小数一致  243   58.1340%\n",
       "前9位小数一致  223   53.3493%"
      ]
     },
     "execution_count": 380,
     "metadata": {},
     "output_type": "execute_result"
    }
   ],
   "source": [
    "compare_decimal_info(predict, 'python预测结果', 'pmml预测结果', max_digit=9)"
   ]
  },
  {
   "cell_type": "code",
   "execution_count": 381,
   "metadata": {
    "ExecuteTime": {
     "end_time": "2019-09-26T06:53:27.826118Z",
     "start_time": "2019-09-26T06:53:27.809122Z"
    }
   },
   "outputs": [
    {
     "data": {
      "text/html": [
       "<div>\n",
       "<style scoped>\n",
       "    .dataframe tbody tr th:only-of-type {\n",
       "        vertical-align: middle;\n",
       "    }\n",
       "\n",
       "    .dataframe tbody tr th {\n",
       "        vertical-align: top;\n",
       "    }\n",
       "\n",
       "    .dataframe thead th {\n",
       "        text-align: right;\n",
       "    }\n",
       "</style>\n",
       "<table border=\"1\" class=\"dataframe\">\n",
       "  <thead>\n",
       "    <tr style=\"text-align: right;\">\n",
       "      <th></th>\n",
       "      <th>PASSENGERID</th>\n",
       "      <th>python预测结果</th>\n",
       "      <th>pmml预测结果</th>\n",
       "    </tr>\n",
       "  </thead>\n",
       "  <tbody>\n",
       "    <tr>\n",
       "      <th>54</th>\n",
       "      <td>946</td>\n",
       "      <td>0.17738</td>\n",
       "      <td>0.17738001</td>\n",
       "    </tr>\n",
       "    <tr>\n",
       "      <th>94</th>\n",
       "      <td>986</td>\n",
       "      <td>0.31833997</td>\n",
       "      <td>0.31834</td>\n",
       "    </tr>\n",
       "    <tr>\n",
       "      <th>179</th>\n",
       "      <td>1071</td>\n",
       "      <td>0.945738</td>\n",
       "      <td>0.9457379</td>\n",
       "    </tr>\n",
       "    <tr>\n",
       "      <th>318</th>\n",
       "      <td>1210</td>\n",
       "      <td>0.12976198</td>\n",
       "      <td>0.129762</td>\n",
       "    </tr>\n",
       "  </tbody>\n",
       "</table>\n",
       "</div>"
      ],
      "text/plain": [
       "    PASSENGERID  python预测结果    pmml预测结果\n",
       "54          946     0.17738  0.17738001\n",
       "94          986  0.31833997     0.31834\n",
       "179        1071    0.945738   0.9457379\n",
       "318        1210  0.12976198    0.129762"
      ]
     },
     "execution_count": 381,
     "metadata": {},
     "output_type": "execute_result"
    }
   ],
   "source": [
    "# 第5位小数和6位小数有差异的样本\n",
    "compare_decimal(predict, 'python预测结果', 'pmml预测结果', digit=6)"
   ]
  },
  {
   "cell_type": "code",
   "execution_count": 382,
   "metadata": {
    "ExecuteTime": {
     "end_time": "2019-09-26T06:53:29.389209Z",
     "start_time": "2019-09-26T06:53:29.371213Z"
    },
    "scrolled": true
   },
   "outputs": [
    {
     "data": {
      "text/html": [
       "<div>\n",
       "<style scoped>\n",
       "    .dataframe tbody tr th:only-of-type {\n",
       "        vertical-align: middle;\n",
       "    }\n",
       "\n",
       "    .dataframe tbody tr th {\n",
       "        vertical-align: top;\n",
       "    }\n",
       "\n",
       "    .dataframe thead th {\n",
       "        text-align: right;\n",
       "    }\n",
       "</style>\n",
       "<table border=\"1\" class=\"dataframe\">\n",
       "  <thead>\n",
       "    <tr style=\"text-align: right;\">\n",
       "      <th></th>\n",
       "      <th>PASSENGERID</th>\n",
       "      <th>python预测结果</th>\n",
       "      <th>pmml预测结果</th>\n",
       "    </tr>\n",
       "  </thead>\n",
       "  <tbody>\n",
       "    <tr>\n",
       "      <th>30</th>\n",
       "      <td>922</td>\n",
       "      <td>0.09169989</td>\n",
       "      <td>0.091699906</td>\n",
       "    </tr>\n",
       "    <tr>\n",
       "      <th>54</th>\n",
       "      <td>946</td>\n",
       "      <td>0.17738</td>\n",
       "      <td>0.17738001</td>\n",
       "    </tr>\n",
       "    <tr>\n",
       "      <th>59</th>\n",
       "      <td>951</td>\n",
       "      <td>0.97878814</td>\n",
       "      <td>0.978788</td>\n",
       "    </tr>\n",
       "    <tr>\n",
       "      <th>76</th>\n",
       "      <td>968</td>\n",
       "      <td>0.09382419</td>\n",
       "      <td>0.0938242</td>\n",
       "    </tr>\n",
       "    <tr>\n",
       "      <th>78</th>\n",
       "      <td>970</td>\n",
       "      <td>0.13024808</td>\n",
       "      <td>0.1302481</td>\n",
       "    </tr>\n",
       "  </tbody>\n",
       "</table>\n",
       "</div>"
      ],
      "text/plain": [
       "   PASSENGERID  python预测结果     pmml预测结果\n",
       "30         922  0.09169989  0.091699906\n",
       "54         946     0.17738   0.17738001\n",
       "59         951  0.97878814     0.978788\n",
       "76         968  0.09382419    0.0938242\n",
       "78         970  0.13024808    0.1302481"
      ]
     },
     "execution_count": 382,
     "metadata": {},
     "output_type": "execute_result"
    }
   ],
   "source": [
    "compare_decimal(predict, 'python预测结果', 'pmml预测结果', digit=7).head()"
   ]
  },
  {
   "cell_type": "markdown",
   "metadata": {},
   "source": [
    "#### 叶子节点和对比"
   ]
  },
  {
   "cell_type": "code",
   "execution_count": 283,
   "metadata": {
    "ExecuteTime": {
     "end_time": "2019-09-26T01:51:09.993457Z",
     "start_time": "2019-09-26T01:51:00.455910Z"
    }
   },
   "outputs": [
    {
     "name": "stdout",
     "output_type": "stream",
     "text": [
      "pmml修改完成，输出为叶子节点和\n",
      "全部样本计算完成\n"
     ]
    }
   ],
   "source": [
    "xgb_predict_python_margin = X_test[['PASSENGERID']]\n",
    "xgb_predict_python_margin['margin'] = xgb_pmml._final_estimator.predict(mapper.transform(X_test), output_margin=True)\n",
    "xgb_predict_python_margin.to_csv(r'python_predict/xgb_predict_python_margin.csv')\n",
    "\n",
    "modify_xgb_pmml('model_file/xgb_pmml.pmml', 'model_file/xgb_pmml_margin.pmml')\n",
    "run_pmml_jar(('java -jar pmml_predict/runpmml.jar data/X_test.csv model_file/xgb_pmml_margin.pmml '\n",
    "             'pmml_predict/xgb_predict_pmml_margin.csv PASSENGERID'))"
   ]
  },
  {
   "cell_type": "code",
   "execution_count": 284,
   "metadata": {
    "ExecuteTime": {
     "end_time": "2019-09-26T01:51:10.531482Z",
     "start_time": "2019-09-26T01:51:10.500483Z"
    }
   },
   "outputs": [],
   "source": [
    "xgb_predict_python_margin = pd.read_csv(r'python_predict/xgb_predict_python_margin.csv', dtype='object')\n",
    "xgb_predict_pmml_margin = pd.read_csv(r'pmml_predict/xgb_predict_pmml_margin.csv', dtype='object')\n",
    "\n",
    "margin = pd.merge(xgb_predict_python_margin[['PASSENGERID', 'margin']].rename(columns={'margin': 'python所有叶节点和'}),\n",
    "        xgb_predict_pmml_margin[['PASSENGERID', 'group']].rename(columns={'group': 'pmml所有叶节点和'}), on='PASSENGERID')"
   ]
  },
  {
   "cell_type": "code",
   "execution_count": 285,
   "metadata": {
    "ExecuteTime": {
     "end_time": "2019-09-26T01:51:11.051520Z",
     "start_time": "2019-09-26T01:51:10.996511Z"
    }
   },
   "outputs": [
    {
     "data": {
      "text/html": [
       "<div>\n",
       "<style scoped>\n",
       "    .dataframe tbody tr th:only-of-type {\n",
       "        vertical-align: middle;\n",
       "    }\n",
       "\n",
       "    .dataframe tbody tr th {\n",
       "        vertical-align: top;\n",
       "    }\n",
       "\n",
       "    .dataframe thead th {\n",
       "        text-align: right;\n",
       "    }\n",
       "</style>\n",
       "<table border=\"1\" class=\"dataframe\">\n",
       "  <thead>\n",
       "    <tr style=\"text-align: right;\">\n",
       "      <th></th>\n",
       "      <th>样本数</th>\n",
       "      <th>占比</th>\n",
       "    </tr>\n",
       "  </thead>\n",
       "  <tbody>\n",
       "    <tr>\n",
       "      <th>完全一致</th>\n",
       "      <td>418</td>\n",
       "      <td>100.0000%</td>\n",
       "    </tr>\n",
       "    <tr>\n",
       "      <th>前1位小数一致</th>\n",
       "      <td>418</td>\n",
       "      <td>100.0000%</td>\n",
       "    </tr>\n",
       "    <tr>\n",
       "      <th>前2位小数一致</th>\n",
       "      <td>418</td>\n",
       "      <td>100.0000%</td>\n",
       "    </tr>\n",
       "    <tr>\n",
       "      <th>前3位小数一致</th>\n",
       "      <td>418</td>\n",
       "      <td>100.0000%</td>\n",
       "    </tr>\n",
       "    <tr>\n",
       "      <th>前4位小数一致</th>\n",
       "      <td>418</td>\n",
       "      <td>100.0000%</td>\n",
       "    </tr>\n",
       "    <tr>\n",
       "      <th>前5位小数一致</th>\n",
       "      <td>418</td>\n",
       "      <td>100.0000%</td>\n",
       "    </tr>\n",
       "    <tr>\n",
       "      <th>前6位小数一致</th>\n",
       "      <td>418</td>\n",
       "      <td>100.0000%</td>\n",
       "    </tr>\n",
       "    <tr>\n",
       "      <th>前7位小数一致</th>\n",
       "      <td>418</td>\n",
       "      <td>100.0000%</td>\n",
       "    </tr>\n",
       "    <tr>\n",
       "      <th>前8位小数一致</th>\n",
       "      <td>418</td>\n",
       "      <td>100.0000%</td>\n",
       "    </tr>\n",
       "    <tr>\n",
       "      <th>前9位小数一致</th>\n",
       "      <td>418</td>\n",
       "      <td>100.0000%</td>\n",
       "    </tr>\n",
       "  </tbody>\n",
       "</table>\n",
       "</div>"
      ],
      "text/plain": [
       "         样本数         占比\n",
       "完全一致     418  100.0000%\n",
       "前1位小数一致  418  100.0000%\n",
       "前2位小数一致  418  100.0000%\n",
       "前3位小数一致  418  100.0000%\n",
       "前4位小数一致  418  100.0000%\n",
       "前5位小数一致  418  100.0000%\n",
       "前6位小数一致  418  100.0000%\n",
       "前7位小数一致  418  100.0000%\n",
       "前8位小数一致  418  100.0000%\n",
       "前9位小数一致  418  100.0000%"
      ]
     },
     "execution_count": 285,
     "metadata": {},
     "output_type": "execute_result"
    }
   ],
   "source": [
    "compare_decimal_info(margin, 'python所有叶节点和', 'pmml所有叶节点和', max_digit=9)"
   ]
  },
  {
   "cell_type": "code",
   "execution_count": 286,
   "metadata": {
    "ExecuteTime": {
     "end_time": "2019-09-26T01:51:11.523547Z",
     "start_time": "2019-09-26T01:51:11.510541Z"
    }
   },
   "outputs": [
    {
     "data": {
      "text/html": [
       "<div>\n",
       "<style scoped>\n",
       "    .dataframe tbody tr th:only-of-type {\n",
       "        vertical-align: middle;\n",
       "    }\n",
       "\n",
       "    .dataframe tbody tr th {\n",
       "        vertical-align: top;\n",
       "    }\n",
       "\n",
       "    .dataframe thead th {\n",
       "        text-align: right;\n",
       "    }\n",
       "</style>\n",
       "<table border=\"1\" class=\"dataframe\">\n",
       "  <thead>\n",
       "    <tr style=\"text-align: right;\">\n",
       "      <th></th>\n",
       "      <th>PASSENGERID</th>\n",
       "      <th>python所有叶节点和</th>\n",
       "      <th>pmml所有叶节点和</th>\n",
       "    </tr>\n",
       "  </thead>\n",
       "  <tbody>\n",
       "  </tbody>\n",
       "</table>\n",
       "</div>"
      ],
      "text/plain": [
       "Empty DataFrame\n",
       "Columns: [PASSENGERID, python所有叶节点和, pmml所有叶节点和]\n",
       "Index: []"
      ]
     },
     "execution_count": 286,
     "metadata": {},
     "output_type": "execute_result"
    }
   ],
   "source": [
    "margin[margin['python所有叶节点和'] != margin['pmml所有叶节点和']]"
   ]
  },
  {
   "cell_type": "code",
   "execution_count": 287,
   "metadata": {
    "ExecuteTime": {
     "end_time": "2019-09-26T01:51:12.005570Z",
     "start_time": "2019-09-26T01:51:11.988570Z"
    }
   },
   "outputs": [
    {
     "data": {
      "text/html": [
       "<div>\n",
       "<style scoped>\n",
       "    .dataframe tbody tr th:only-of-type {\n",
       "        vertical-align: middle;\n",
       "    }\n",
       "\n",
       "    .dataframe tbody tr th {\n",
       "        vertical-align: top;\n",
       "    }\n",
       "\n",
       "    .dataframe thead th {\n",
       "        text-align: right;\n",
       "    }\n",
       "</style>\n",
       "<table border=\"1\" class=\"dataframe\">\n",
       "  <thead>\n",
       "    <tr style=\"text-align: right;\">\n",
       "      <th></th>\n",
       "      <th>PASSENGERID</th>\n",
       "      <th>python所有叶节点和</th>\n",
       "      <th>pmml所有叶节点和</th>\n",
       "    </tr>\n",
       "  </thead>\n",
       "  <tbody>\n",
       "    <tr>\n",
       "      <th>54</th>\n",
       "      <td>946</td>\n",
       "      <td>-1.5342001</td>\n",
       "      <td>-1.5342001</td>\n",
       "    </tr>\n",
       "    <tr>\n",
       "      <th>94</th>\n",
       "      <td>986</td>\n",
       "      <td>-0.7614111</td>\n",
       "      <td>-0.7614111</td>\n",
       "    </tr>\n",
       "    <tr>\n",
       "      <th>179</th>\n",
       "      <td>1071</td>\n",
       "      <td>2.8581402</td>\n",
       "      <td>2.8581402</td>\n",
       "    </tr>\n",
       "    <tr>\n",
       "      <th>318</th>\n",
       "      <td>1210</td>\n",
       "      <td>-1.903065</td>\n",
       "      <td>-1.903065</td>\n",
       "    </tr>\n",
       "  </tbody>\n",
       "</table>\n",
       "</div>"
      ],
      "text/plain": [
       "    PASSENGERID python所有叶节点和  pmml所有叶节点和\n",
       "54          946   -1.5342001  -1.5342001\n",
       "94          986   -0.7614111  -0.7614111\n",
       "179        1071    2.8581402   2.8581402\n",
       "318        1210    -1.903065   -1.903065"
      ]
     },
     "execution_count": 287,
     "metadata": {},
     "output_type": "execute_result"
    }
   ],
   "source": [
    "margin.iloc[compare_decimal(predict, 'python预测结果', 'pmml预测结果', digit=6).index]"
   ]
  },
  {
   "cell_type": "markdown",
   "metadata": {},
   "source": [
    "#### python sigmoid运算对比"
   ]
  },
  {
   "cell_type": "code",
   "execution_count": 289,
   "metadata": {
    "ExecuteTime": {
     "end_time": "2019-09-26T01:51:12.983623Z",
     "start_time": "2019-09-26T01:51:12.948621Z"
    },
    "scrolled": true
   },
   "outputs": [
    {
     "data": {
      "text/html": [
       "<div>\n",
       "<style scoped>\n",
       "    .dataframe tbody tr th:only-of-type {\n",
       "        vertical-align: middle;\n",
       "    }\n",
       "\n",
       "    .dataframe tbody tr th {\n",
       "        vertical-align: top;\n",
       "    }\n",
       "\n",
       "    .dataframe thead th {\n",
       "        text-align: right;\n",
       "    }\n",
       "</style>\n",
       "<table border=\"1\" class=\"dataframe\">\n",
       "  <thead>\n",
       "    <tr style=\"text-align: right;\">\n",
       "      <th></th>\n",
       "      <th>PASSENGERID</th>\n",
       "      <th>python预测结果</th>\n",
       "      <th>python所有叶节点和</th>\n",
       "      <th>np.float32数组sigmoid运算</th>\n",
       "    </tr>\n",
       "  </thead>\n",
       "  <tbody>\n",
       "  </tbody>\n",
       "</table>\n",
       "</div>"
      ],
      "text/plain": [
       "Empty DataFrame\n",
       "Columns: [PASSENGERID, python预测结果, python所有叶节点和, np.float32数组sigmoid运算]\n",
       "Index: []"
      ]
     },
     "execution_count": 289,
     "metadata": {},
     "output_type": "execute_result"
    }
   ],
   "source": [
    "python_predict = pd.merge(xgb_predict_python[['PASSENGERID', 'proba_1']].rename(columns={'proba_1': 'python预测结果'}),\n",
    "        xgb_predict_python_margin[['PASSENGERID', 'margin']].rename(columns={'margin': 'python所有叶节点和'}), on='PASSENGERID')\n",
    "\n",
    "python_predict['np.float32数组sigmoid运算']= np.float32(sigmoid(np.float32(python_predict['python所有叶节点和']))).astype(str)\n",
    "\n",
    "python_predict.loc[python_predict['python预测结果'] != python_predict['np.float32数组sigmoid运算']]"
   ]
  },
  {
   "cell_type": "markdown",
   "metadata": {},
   "source": [
    "#### pmml sigmoid运算对比"
   ]
  },
  {
   "cell_type": "code",
   "execution_count": 290,
   "metadata": {
    "ExecuteTime": {
     "end_time": "2019-09-26T01:51:41.310889Z",
     "start_time": "2019-09-26T01:51:13.470660Z"
    }
   },
   "outputs": [
    {
     "name": "stdout",
     "output_type": "stream",
     "text": [
      "pmml修改完成，输出为叶子节点和\n",
      "全部样本计算完成\n",
      "pmml修改完成，输出为叶子节点和\n",
      "全部样本计算完成\n",
      "pmml修改完成，输出为叶子节点和\n",
      "全部样本计算完成\n"
     ]
    }
   ],
   "source": [
    "modify_xgb_pmml_test('model_file/xgb_pmml.pmml', 'model_file/xgb_pmml_test.pmml', 1)\n",
    "run_pmml_jar(('java -jar pmml_predict/runpmml.jar data/X_test.csv model_file/xgb_pmml_test.pmml '\n",
    "             'pmml_predict/xgb_predict_pmml_test.csv PASSENGERID'))\n",
    "\n",
    "xgb_predict_pmml_test = pd.read_csv(r'pmml_predict/xgb_predict_pmml_test.csv', dtype='object')[['PASSENGERID', 'proba_1']].rename(\n",
    "    columns={'proba_1': 'pmml修改后预测结果1'})\n",
    "\n",
    "modify_xgb_pmml_test('model_file/xgb_pmml.pmml', 'model_file/xgb_pmml_test.pmml', 2)\n",
    "run_pmml_jar(('java -jar pmml_predict/runpmml.jar data/X_test.csv model_file/xgb_pmml_test.pmml '\n",
    "             'pmml_predict/xgb_predict_pmml_test.csv PASSENGERID'))\n",
    "xgb_predict_pmml_test = pd.merge(xgb_predict_pmml_test,\n",
    "        pd.read_csv(r'pmml_predict/xgb_predict_pmml_test.csv', dtype='object')[['PASSENGERID', 'proba_1']].rename(\n",
    "            columns={'proba_1': 'pmml修改后预测结果2'}), on='PASSENGERID')\n",
    "\n",
    "modify_xgb_pmml_test('model_file/xgb_pmml.pmml', 'model_file/xgb_pmml_test.pmml', 3)\n",
    "run_pmml_jar(('java -jar pmml_predict/runpmml.jar data/X_test.csv model_file/xgb_pmml_test.pmml '\n",
    "             'pmml_predict/xgb_predict_pmml_test.csv PASSENGERID'))\n",
    "xgb_predict_pmml_test = pd.merge(xgb_predict_pmml_test,\n",
    "        pd.read_csv(r'pmml_predict/xgb_predict_pmml_test.csv', dtype='object')[['PASSENGERID', 'proba_1']].rename(\n",
    "            columns={'proba_1': 'pmml修改后预测结果3'}), on='PASSENGERID')\n",
    "\n",
    "xgb_predict_pmml_test = pd.merge(predict, xgb_predict_pmml_test, on='PASSENGERID')"
   ]
  },
  {
   "cell_type": "code",
   "execution_count": 291,
   "metadata": {
    "ExecuteTime": {
     "end_time": "2019-09-26T01:51:41.836932Z",
     "start_time": "2019-09-26T01:51:41.812914Z"
    }
   },
   "outputs": [
    {
     "data": {
      "text/html": [
       "<div>\n",
       "<style scoped>\n",
       "    .dataframe tbody tr th:only-of-type {\n",
       "        vertical-align: middle;\n",
       "    }\n",
       "\n",
       "    .dataframe tbody tr th {\n",
       "        vertical-align: top;\n",
       "    }\n",
       "\n",
       "    .dataframe thead th {\n",
       "        text-align: right;\n",
       "    }\n",
       "</style>\n",
       "<table border=\"1\" class=\"dataframe\">\n",
       "  <thead>\n",
       "    <tr style=\"text-align: right;\">\n",
       "      <th></th>\n",
       "      <th>PASSENGERID</th>\n",
       "      <th>python预测结果</th>\n",
       "      <th>pmml预测结果</th>\n",
       "      <th>pmml修改后预测结果1</th>\n",
       "      <th>pmml修改后预测结果2</th>\n",
       "      <th>pmml修改后预测结果3</th>\n",
       "    </tr>\n",
       "  </thead>\n",
       "  <tbody>\n",
       "    <tr>\n",
       "      <th>54</th>\n",
       "      <td>946</td>\n",
       "      <td>0.17738</td>\n",
       "      <td>0.17738001</td>\n",
       "      <td>0.1773800104856491</td>\n",
       "      <td>0.17738</td>\n",
       "      <td>0.17737999597524234</td>\n",
       "    </tr>\n",
       "    <tr>\n",
       "      <th>94</th>\n",
       "      <td>986</td>\n",
       "      <td>0.31833997</td>\n",
       "      <td>0.31834</td>\n",
       "      <td>0.318340003490448</td>\n",
       "      <td>0.31833997</td>\n",
       "      <td>0.3183399858916577</td>\n",
       "    </tr>\n",
       "    <tr>\n",
       "      <th>179</th>\n",
       "      <td>1071</td>\n",
       "      <td>0.945738</td>\n",
       "      <td>0.9457379</td>\n",
       "      <td>0.945737898349762</td>\n",
       "      <td>0.94573796</td>\n",
       "      <td>0.9457379395070129</td>\n",
       "    </tr>\n",
       "    <tr>\n",
       "      <th>318</th>\n",
       "      <td>1210</td>\n",
       "      <td>0.12976198</td>\n",
       "      <td>0.129762</td>\n",
       "      <td>0.12976199388504028</td>\n",
       "      <td>0.12976198</td>\n",
       "      <td>0.1297619737943394</td>\n",
       "    </tr>\n",
       "  </tbody>\n",
       "</table>\n",
       "</div>"
      ],
      "text/plain": [
       "    PASSENGERID  python预测结果    pmml预测结果         pmml修改后预测结果1 pmml修改后预测结果2  \\\n",
       "54          946     0.17738  0.17738001   0.1773800104856491      0.17738   \n",
       "94          986  0.31833997     0.31834    0.318340003490448   0.31833997   \n",
       "179        1071    0.945738   0.9457379    0.945737898349762   0.94573796   \n",
       "318        1210  0.12976198    0.129762  0.12976199388504028   0.12976198   \n",
       "\n",
       "            pmml修改后预测结果3  \n",
       "54   0.17737999597524234  \n",
       "94    0.3183399858916577  \n",
       "179   0.9457379395070129  \n",
       "318   0.1297619737943394  "
      ]
     },
     "execution_count": 291,
     "metadata": {},
     "output_type": "execute_result"
    }
   ],
   "source": [
    "xgb_predict_pmml_test.iloc[compare_decimal(predict, 'python预测结果', 'pmml预测结果', digit=6).index]"
   ]
  },
  {
   "cell_type": "code",
   "execution_count": 363,
   "metadata": {
    "ExecuteTime": {
     "end_time": "2019-09-26T05:37:23.095346Z",
     "start_time": "2019-09-26T05:37:23.079347Z"
    }
   },
   "outputs": [
    {
     "data": {
      "text/html": [
       "<div>\n",
       "<style scoped>\n",
       "    .dataframe tbody tr th:only-of-type {\n",
       "        vertical-align: middle;\n",
       "    }\n",
       "\n",
       "    .dataframe tbody tr th {\n",
       "        vertical-align: top;\n",
       "    }\n",
       "\n",
       "    .dataframe thead th {\n",
       "        text-align: right;\n",
       "    }\n",
       "</style>\n",
       "<table border=\"1\" class=\"dataframe\">\n",
       "  <thead>\n",
       "    <tr style=\"text-align: right;\">\n",
       "      <th></th>\n",
       "      <th>PASSENGERID</th>\n",
       "      <th>python预测结果</th>\n",
       "      <th>pmml预测结果</th>\n",
       "      <th>pmml修改后预测结果1</th>\n",
       "      <th>pmml修改后预测结果2</th>\n",
       "      <th>pmml修改后预测结果3</th>\n",
       "    </tr>\n",
       "  </thead>\n",
       "  <tbody>\n",
       "  </tbody>\n",
       "</table>\n",
       "</div>"
      ],
      "text/plain": [
       "Empty DataFrame\n",
       "Columns: [PASSENGERID, python预测结果, pmml预测结果, pmml修改后预测结果1, pmml修改后预测结果2, pmml修改后预测结果3]\n",
       "Index: []"
      ]
     },
     "execution_count": 363,
     "metadata": {},
     "output_type": "execute_result"
    }
   ],
   "source": [
    "xgb_predict_pmml_test[np.float64(xgb_predict_pmml_test['pmml修改后预测结果1']).astype(np.float32).astype(str) \\\n",
    "                      != xgb_predict_pmml_test['pmml预测结果']]"
   ]
  },
  {
   "cell_type": "code",
   "execution_count": 358,
   "metadata": {
    "ExecuteTime": {
     "end_time": "2019-09-26T03:23:45.046177Z",
     "start_time": "2019-09-26T03:23:45.025179Z"
    }
   },
   "outputs": [
    {
     "name": "stdout",
     "output_type": "stream",
     "text": [
      "np.float32数组的默认sigmoid运算: 0.17738 结果类型: float32\n",
      "np.float32数组的32位sigmoid运算: 0.17738 结果类型: float32\n",
      "np.float32数组的64位sigmoid运算: 0.17737999597524234 结果类型: float64 \n",
      "\n",
      "np.float64数组的默认sigmoid运算: 0.1773799919316838 结果类型: float64\n",
      "np.float64数组的32位sigmoid运算: 0.17738 结果类型: float32\n",
      "np.float64数组的64位sigmoid运算: 0.1773799919316838 结果类型: float64\n"
     ]
    }
   ],
   "source": [
    "sigmoid1 = lambda x: 1 / (1 + np.exp(-x))\n",
    "sigmoid2 = lambda x: 1 / (1 + np.exp(-x, dtype=np.float32))\n",
    "sigmoid3 = lambda x: 1 / (1 + np.exp(-x, dtype=np.float64))\n",
    "# print('np.float32标量的默认sigmoid运算:', sigmoid1(np.float32(-1.5342001)),\n",
    "#       '结果类型:', sigmoid1(np.float32(-1.5342001)).dtype)\n",
    "# print('np.float32标量的32位sigmoid运算:', sigmoid2(np.float32(-1.5342001)),\n",
    "#       '结果类型:', sigmoid2(np.float32(-1.5342001)).dtype)\n",
    "# print('np.float32标量的64位sigmoid运算:', sigmoid3(np.float32(-1.5342001)),\n",
    "#       '结果类型:', sigmoid3(np.float32(-1.5342001)).dtype)\n",
    "print('np.float32数组的默认sigmoid运算:', sigmoid1(np.float32([-1.5342001]))[0],\n",
    "      '结果类型:', sigmoid1(np.float32([-1.5342001]))[0].dtype)\n",
    "print('np.float32数组的32位sigmoid运算:', sigmoid2(np.float32([-1.5342001]))[0],\n",
    "      '结果类型:', sigmoid2(np.float32([-1.5342001]))[0].dtype)\n",
    "print('np.float32数组的64位sigmoid运算:', sigmoid3(np.float32([-1.5342001]))[0],\n",
    "      '结果类型:', sigmoid3(np.float32([-1.5342001]))[0].dtype, '\\n')\n",
    "# print('np.float64标量的默认sigmoid运算:', sigmoid1(np.float64(-1.5342001)),\n",
    "#       '结果类型:', sigmoid1(np.float64(-1.5342001)).dtype)\n",
    "# print('np.float64标量的32位sigmoid运算:', sigmoid2(np.float64(-1.5342001)),\n",
    "#       '结果类型:', sigmoid2(np.float64(-1.5342001)).dtype)\n",
    "# print('np.float64标量的64位sigmoid运算:', sigmoid3(np.float64(-1.5342001)),\n",
    "#       '结果类型:', sigmoid3(np.float64(-1.5342001)).dtype)\n",
    "print('np.float64数组的默认sigmoid运算:', sigmoid1(np.float64([-1.5342001]))[0],\n",
    "      '结果类型:', sigmoid1(np.float64([-1.5342001]))[0].dtype)\n",
    "print('np.float64数组的32位sigmoid运算:', sigmoid2(np.float32([-1.5342001]))[0],\n",
    "      '结果类型:', sigmoid2(np.float32([-1.5342001]))[0].dtype)\n",
    "print('np.float64数组的64位sigmoid运算:', sigmoid3(np.float64([-1.5342001]))[0],\n",
    "      '结果类型:', sigmoid3(np.float64([-1.5342001]))[0].dtype)"
   ]
  },
  {
   "cell_type": "code",
   "execution_count": 359,
   "metadata": {
    "ExecuteTime": {
     "end_time": "2019-09-26T05:33:15.393165Z",
     "start_time": "2019-09-26T05:33:15.087148Z"
    }
   },
   "outputs": [],
   "source": [
    "xgb_predict_python_test = xgb_predict_pmml_test[['PASSENGERID', 'pmml修改后预测结果3']]\n",
    "xgb_predict_python_test['np.float32数组的64位sigmoid运算'] = sigmoid3(np.float32(python_predict['python所有叶节点和'])).astype(str)"
   ]
  },
  {
   "cell_type": "code",
   "execution_count": 360,
   "metadata": {
    "ExecuteTime": {
     "end_time": "2019-09-26T05:34:03.493921Z",
     "start_time": "2019-09-26T05:34:03.474920Z"
    },
    "scrolled": true
   },
   "outputs": [
    {
     "data": {
      "text/html": [
       "<div>\n",
       "<style scoped>\n",
       "    .dataframe tbody tr th:only-of-type {\n",
       "        vertical-align: middle;\n",
       "    }\n",
       "\n",
       "    .dataframe tbody tr th {\n",
       "        vertical-align: top;\n",
       "    }\n",
       "\n",
       "    .dataframe thead th {\n",
       "        text-align: right;\n",
       "    }\n",
       "</style>\n",
       "<table border=\"1\" class=\"dataframe\">\n",
       "  <thead>\n",
       "    <tr style=\"text-align: right;\">\n",
       "      <th></th>\n",
       "      <th>PASSENGERID</th>\n",
       "      <th>pmml修改后预测结果3</th>\n",
       "      <th>np.float32数组的64位sigmoid运算</th>\n",
       "    </tr>\n",
       "  </thead>\n",
       "  <tbody>\n",
       "    <tr>\n",
       "      <th>54</th>\n",
       "      <td>946</td>\n",
       "      <td>0.17737999597524234</td>\n",
       "      <td>0.17737999597524234</td>\n",
       "    </tr>\n",
       "    <tr>\n",
       "      <th>94</th>\n",
       "      <td>986</td>\n",
       "      <td>0.3183399858916577</td>\n",
       "      <td>0.3183399858916577</td>\n",
       "    </tr>\n",
       "    <tr>\n",
       "      <th>179</th>\n",
       "      <td>1071</td>\n",
       "      <td>0.9457379395070129</td>\n",
       "      <td>0.9457379395070129</td>\n",
       "    </tr>\n",
       "    <tr>\n",
       "      <th>318</th>\n",
       "      <td>1210</td>\n",
       "      <td>0.1297619737943394</td>\n",
       "      <td>0.1297619737943394</td>\n",
       "    </tr>\n",
       "  </tbody>\n",
       "</table>\n",
       "</div>"
      ],
      "text/plain": [
       "    PASSENGERID         pmml修改后预测结果3 np.float32数组的64位sigmoid运算\n",
       "54          946  0.17737999597524234       0.17737999597524234\n",
       "94          986   0.3183399858916577        0.3183399858916577\n",
       "179        1071   0.9457379395070129        0.9457379395070129\n",
       "318        1210   0.1297619737943394        0.1297619737943394"
      ]
     },
     "execution_count": 360,
     "metadata": {},
     "output_type": "execute_result"
    }
   ],
   "source": [
    "xgb_predict_python_test.iloc[compare_decimal(predict, 'python预测结果', 'pmml预测结果', digit=6).index]"
   ]
  },
  {
   "cell_type": "code",
   "execution_count": 361,
   "metadata": {
    "ExecuteTime": {
     "end_time": "2019-09-26T05:35:59.869587Z",
     "start_time": "2019-09-26T05:35:59.857576Z"
    }
   },
   "outputs": [
    {
     "data": {
      "text/html": [
       "<div>\n",
       "<style scoped>\n",
       "    .dataframe tbody tr th:only-of-type {\n",
       "        vertical-align: middle;\n",
       "    }\n",
       "\n",
       "    .dataframe tbody tr th {\n",
       "        vertical-align: top;\n",
       "    }\n",
       "\n",
       "    .dataframe thead th {\n",
       "        text-align: right;\n",
       "    }\n",
       "</style>\n",
       "<table border=\"1\" class=\"dataframe\">\n",
       "  <thead>\n",
       "    <tr style=\"text-align: right;\">\n",
       "      <th></th>\n",
       "      <th>PASSENGERID</th>\n",
       "      <th>pmml修改后预测结果3</th>\n",
       "      <th>np.float32数组的64位sigmoid运算</th>\n",
       "    </tr>\n",
       "  </thead>\n",
       "  <tbody>\n",
       "  </tbody>\n",
       "</table>\n",
       "</div>"
      ],
      "text/plain": [
       "Empty DataFrame\n",
       "Columns: [PASSENGERID, pmml修改后预测结果3, np.float32数组的64位sigmoid运算]\n",
       "Index: []"
      ]
     },
     "execution_count": 361,
     "metadata": {},
     "output_type": "execute_result"
    }
   ],
   "source": [
    "xgb_predict_python_test[xgb_predict_python_test['pmml修改后预测结果3'] != xgb_predict_python_test['np.float32数组的64位sigmoid运算']]"
   ]
  },
  {
   "cell_type": "code",
   "execution_count": 370,
   "metadata": {
    "ExecuteTime": {
     "end_time": "2019-09-26T06:41:09.117816Z",
     "start_time": "2019-09-26T06:41:09.063813Z"
    }
   },
   "outputs": [
    {
     "data": {
      "text/html": [
       "<div>\n",
       "<style scoped>\n",
       "    .dataframe tbody tr th:only-of-type {\n",
       "        vertical-align: middle;\n",
       "    }\n",
       "\n",
       "    .dataframe tbody tr th {\n",
       "        vertical-align: top;\n",
       "    }\n",
       "\n",
       "    .dataframe thead th {\n",
       "        text-align: right;\n",
       "    }\n",
       "</style>\n",
       "<table border=\"1\" class=\"dataframe\">\n",
       "  <thead>\n",
       "    <tr style=\"text-align: right;\">\n",
       "      <th></th>\n",
       "      <th>样本数</th>\n",
       "      <th>占比</th>\n",
       "    </tr>\n",
       "  </thead>\n",
       "  <tbody>\n",
       "    <tr>\n",
       "      <th>完全一致</th>\n",
       "      <td>277</td>\n",
       "      <td>66.2679%</td>\n",
       "    </tr>\n",
       "    <tr>\n",
       "      <th>前1位小数一致</th>\n",
       "      <td>418</td>\n",
       "      <td>100.0000%</td>\n",
       "    </tr>\n",
       "    <tr>\n",
       "      <th>前2位小数一致</th>\n",
       "      <td>418</td>\n",
       "      <td>100.0000%</td>\n",
       "    </tr>\n",
       "    <tr>\n",
       "      <th>前3位小数一致</th>\n",
       "      <td>418</td>\n",
       "      <td>100.0000%</td>\n",
       "    </tr>\n",
       "    <tr>\n",
       "      <th>前4位小数一致</th>\n",
       "      <td>418</td>\n",
       "      <td>100.0000%</td>\n",
       "    </tr>\n",
       "    <tr>\n",
       "      <th>前5位小数一致</th>\n",
       "      <td>418</td>\n",
       "      <td>100.0000%</td>\n",
       "    </tr>\n",
       "    <tr>\n",
       "      <th>前6位小数一致</th>\n",
       "      <td>416</td>\n",
       "      <td>99.5215%</td>\n",
       "    </tr>\n",
       "    <tr>\n",
       "      <th>前7位小数一致</th>\n",
       "      <td>365</td>\n",
       "      <td>87.3206%</td>\n",
       "    </tr>\n",
       "    <tr>\n",
       "      <th>前8位小数一致</th>\n",
       "      <td>293</td>\n",
       "      <td>70.0957%</td>\n",
       "    </tr>\n",
       "    <tr>\n",
       "      <th>前9位小数一致</th>\n",
       "      <td>277</td>\n",
       "      <td>66.2679%</td>\n",
       "    </tr>\n",
       "  </tbody>\n",
       "</table>\n",
       "</div>"
      ],
      "text/plain": [
       "         样本数         占比\n",
       "完全一致     277   66.2679%\n",
       "前1位小数一致  418  100.0000%\n",
       "前2位小数一致  418  100.0000%\n",
       "前3位小数一致  418  100.0000%\n",
       "前4位小数一致  418  100.0000%\n",
       "前5位小数一致  418  100.0000%\n",
       "前6位小数一致  416   99.5215%\n",
       "前7位小数一致  365   87.3206%\n",
       "前8位小数一致  293   70.0957%\n",
       "前9位小数一致  277   66.2679%"
      ]
     },
     "execution_count": 370,
     "metadata": {},
     "output_type": "execute_result"
    }
   ],
   "source": [
    "compare_decimal_info(xgb_predict_pmml_test, 'python预测结果', 'pmml修改后预测结果2', max_digit=9)"
   ]
  },
  {
   "cell_type": "markdown",
   "metadata": {},
   "source": [
    "### LightGBM"
   ]
  },
  {
   "cell_type": "code",
   "execution_count": 364,
   "metadata": {
    "ExecuteTime": {
     "end_time": "2019-09-26T06:38:15.166851Z",
     "start_time": "2019-09-26T06:38:10.440588Z"
    }
   },
   "outputs": [],
   "source": [
    "# 训练模型 \n",
    "lgb = LGBMClassifier(random_state=1234)\n",
    "lgb_pmml = PMMLPipeline([('mapper', mapper), ('model', lgb)])\n",
    "lgb_pmml.fit(X_train, Y_train)\n",
    "\n",
    "# 导出模型文件\n",
    "sklearn2pmml(lgb_pmml, r'model_file/lgb_pmml.pmml', with_repr=True)"
   ]
  },
  {
   "cell_type": "code",
   "execution_count": 366,
   "metadata": {
    "ExecuteTime": {
     "end_time": "2019-09-26T06:38:38.414191Z",
     "start_time": "2019-09-26T06:38:22.604282Z"
    }
   },
   "outputs": [
    {
     "name": "stdout",
     "output_type": "stream",
     "text": [
      "全部样本计算完成\n"
     ]
    }
   ],
   "source": [
    "# 导出python预测结果 + 未sigmoid转换的原始margin值\n",
    "lgb_predict_python = pd.DataFrame(lgb_pmml.predict_proba(X_test)).rename(columns={0:'proba_0', 1:'proba_1'})\n",
    "lgb_predict_python['PASSENGERID'] = X_test['PASSENGERID'].values\n",
    "lgb_predict_python.to_csv(r'python_predict/lgb_predict_python.csv')\n",
    "\n",
    "# pmml预测概率值 + 未sigmoid转换的原始margin值\n",
    "run_pmml_jar('java -jar pmml_predict/runpmml.jar data/X_test.csv model_file/lgb_pmml.pmml pmml_predict/lgb_predict_pmml.csv PASSENGERID')"
   ]
  },
  {
   "cell_type": "code",
   "execution_count": 390,
   "metadata": {
    "ExecuteTime": {
     "end_time": "2019-09-26T08:38:55.067850Z",
     "start_time": "2019-09-26T08:38:55.034852Z"
    }
   },
   "outputs": [],
   "source": [
    "# 按字符读取预测结果，否则浮点容易被自动损失精度\n",
    "# 合并预测结果\n",
    "lgb_predict_python = pd.read_csv(r'python_predict/lgb_predict_python.csv', dtype='object')\n",
    "lgb_predict_pmml = pd.read_csv(r'pmml_predict/lgb_predict_pmml.csv', dtype='object')\n",
    "\n",
    "predict = pd.merge(lgb_predict_python[['PASSENGERID', 'proba_1']].rename(columns={'proba_1': 'python预测结果'}),\n",
    "        lgb_predict_pmml[['PASSENGERID', 'proba_1']].rename(columns={'proba_1': 'pmml预测结果'}), on='PASSENGERID')"
   ]
  },
  {
   "cell_type": "code",
   "execution_count": 391,
   "metadata": {
    "ExecuteTime": {
     "end_time": "2019-09-26T08:38:55.844897Z",
     "start_time": "2019-09-26T08:38:55.759893Z"
    },
    "scrolled": true
   },
   "outputs": [
    {
     "data": {
      "text/html": [
       "<div>\n",
       "<style scoped>\n",
       "    .dataframe tbody tr th:only-of-type {\n",
       "        vertical-align: middle;\n",
       "    }\n",
       "\n",
       "    .dataframe tbody tr th {\n",
       "        vertical-align: top;\n",
       "    }\n",
       "\n",
       "    .dataframe thead th {\n",
       "        text-align: right;\n",
       "    }\n",
       "</style>\n",
       "<table border=\"1\" class=\"dataframe\">\n",
       "  <thead>\n",
       "    <tr style=\"text-align: right;\">\n",
       "      <th></th>\n",
       "      <th>样本数</th>\n",
       "      <th>占比</th>\n",
       "    </tr>\n",
       "  </thead>\n",
       "  <tbody>\n",
       "    <tr>\n",
       "      <th>完全一致</th>\n",
       "      <td>413</td>\n",
       "      <td>98.8038%</td>\n",
       "    </tr>\n",
       "    <tr>\n",
       "      <th>前1位小数一致</th>\n",
       "      <td>413</td>\n",
       "      <td>98.8038%</td>\n",
       "    </tr>\n",
       "    <tr>\n",
       "      <th>前2位小数一致</th>\n",
       "      <td>413</td>\n",
       "      <td>98.8038%</td>\n",
       "    </tr>\n",
       "    <tr>\n",
       "      <th>前3位小数一致</th>\n",
       "      <td>413</td>\n",
       "      <td>98.8038%</td>\n",
       "    </tr>\n",
       "    <tr>\n",
       "      <th>前4位小数一致</th>\n",
       "      <td>413</td>\n",
       "      <td>98.8038%</td>\n",
       "    </tr>\n",
       "    <tr>\n",
       "      <th>前5位小数一致</th>\n",
       "      <td>413</td>\n",
       "      <td>98.8038%</td>\n",
       "    </tr>\n",
       "    <tr>\n",
       "      <th>前6位小数一致</th>\n",
       "      <td>413</td>\n",
       "      <td>98.8038%</td>\n",
       "    </tr>\n",
       "    <tr>\n",
       "      <th>前7位小数一致</th>\n",
       "      <td>413</td>\n",
       "      <td>98.8038%</td>\n",
       "    </tr>\n",
       "    <tr>\n",
       "      <th>前8位小数一致</th>\n",
       "      <td>413</td>\n",
       "      <td>98.8038%</td>\n",
       "    </tr>\n",
       "    <tr>\n",
       "      <th>前9位小数一致</th>\n",
       "      <td>413</td>\n",
       "      <td>98.8038%</td>\n",
       "    </tr>\n",
       "    <tr>\n",
       "      <th>前10位小数一致</th>\n",
       "      <td>413</td>\n",
       "      <td>98.8038%</td>\n",
       "    </tr>\n",
       "    <tr>\n",
       "      <th>前11位小数一致</th>\n",
       "      <td>413</td>\n",
       "      <td>98.8038%</td>\n",
       "    </tr>\n",
       "    <tr>\n",
       "      <th>前12位小数一致</th>\n",
       "      <td>413</td>\n",
       "      <td>98.8038%</td>\n",
       "    </tr>\n",
       "    <tr>\n",
       "      <th>前13位小数一致</th>\n",
       "      <td>413</td>\n",
       "      <td>98.8038%</td>\n",
       "    </tr>\n",
       "    <tr>\n",
       "      <th>前14位小数一致</th>\n",
       "      <td>413</td>\n",
       "      <td>98.8038%</td>\n",
       "    </tr>\n",
       "    <tr>\n",
       "      <th>前15位小数一致</th>\n",
       "      <td>413</td>\n",
       "      <td>98.8038%</td>\n",
       "    </tr>\n",
       "    <tr>\n",
       "      <th>前16位小数一致</th>\n",
       "      <td>413</td>\n",
       "      <td>98.8038%</td>\n",
       "    </tr>\n",
       "    <tr>\n",
       "      <th>前17位小数一致</th>\n",
       "      <td>413</td>\n",
       "      <td>98.8038%</td>\n",
       "    </tr>\n",
       "  </tbody>\n",
       "</table>\n",
       "</div>"
      ],
      "text/plain": [
       "          样本数        占比\n",
       "完全一致      413  98.8038%\n",
       "前1位小数一致   413  98.8038%\n",
       "前2位小数一致   413  98.8038%\n",
       "前3位小数一致   413  98.8038%\n",
       "前4位小数一致   413  98.8038%\n",
       "前5位小数一致   413  98.8038%\n",
       "前6位小数一致   413  98.8038%\n",
       "前7位小数一致   413  98.8038%\n",
       "前8位小数一致   413  98.8038%\n",
       "前9位小数一致   413  98.8038%\n",
       "前10位小数一致  413  98.8038%\n",
       "前11位小数一致  413  98.8038%\n",
       "前12位小数一致  413  98.8038%\n",
       "前13位小数一致  413  98.8038%\n",
       "前14位小数一致  413  98.8038%\n",
       "前15位小数一致  413  98.8038%\n",
       "前16位小数一致  413  98.8038%\n",
       "前17位小数一致  413  98.8038%"
      ]
     },
     "execution_count": 391,
     "metadata": {},
     "output_type": "execute_result"
    }
   ],
   "source": [
    "compare_decimal_info(predict, 'python预测结果', 'pmml预测结果', max_digit=17)"
   ]
  },
  {
   "cell_type": "code",
   "execution_count": 369,
   "metadata": {
    "ExecuteTime": {
     "end_time": "2019-09-26T06:39:05.600746Z",
     "start_time": "2019-09-26T06:39:05.582747Z"
    }
   },
   "outputs": [
    {
     "data": {
      "text/html": [
       "<div>\n",
       "<style scoped>\n",
       "    .dataframe tbody tr th:only-of-type {\n",
       "        vertical-align: middle;\n",
       "    }\n",
       "\n",
       "    .dataframe tbody tr th {\n",
       "        vertical-align: top;\n",
       "    }\n",
       "\n",
       "    .dataframe thead th {\n",
       "        text-align: right;\n",
       "    }\n",
       "</style>\n",
       "<table border=\"1\" class=\"dataframe\">\n",
       "  <thead>\n",
       "    <tr style=\"text-align: right;\">\n",
       "      <th></th>\n",
       "      <th>PASSENGERID</th>\n",
       "      <th>python预测结果</th>\n",
       "      <th>pmml预测结果</th>\n",
       "    </tr>\n",
       "  </thead>\n",
       "  <tbody>\n",
       "    <tr>\n",
       "      <th>198</th>\n",
       "      <td>1090</td>\n",
       "      <td>0.0008933515943878714</td>\n",
       "      <td>8.933515943878714E-4</td>\n",
       "    </tr>\n",
       "    <tr>\n",
       "      <th>211</th>\n",
       "      <td>1103</td>\n",
       "      <td>0.0005858472732236</td>\n",
       "      <td>5.858472732236E-4</td>\n",
       "    </tr>\n",
       "    <tr>\n",
       "      <th>253</th>\n",
       "      <td>1145</td>\n",
       "      <td>0.0006451483151224302</td>\n",
       "      <td>6.451483151224302E-4</td>\n",
       "    </tr>\n",
       "    <tr>\n",
       "      <th>285</th>\n",
       "      <td>1177</td>\n",
       "      <td>0.0001686246198829013</td>\n",
       "      <td>1.686246198829013E-4</td>\n",
       "    </tr>\n",
       "    <tr>\n",
       "      <th>415</th>\n",
       "      <td>1307</td>\n",
       "      <td>0.00013847138974055706</td>\n",
       "      <td>1.3847138974055706E-4</td>\n",
       "    </tr>\n",
       "  </tbody>\n",
       "</table>\n",
       "</div>"
      ],
      "text/plain": [
       "    PASSENGERID              python预测结果               pmml预测结果\n",
       "198        1090   0.0008933515943878714   8.933515943878714E-4\n",
       "211        1103      0.0005858472732236      5.858472732236E-4\n",
       "253        1145   0.0006451483151224302   6.451483151224302E-4\n",
       "285        1177   0.0001686246198829013   1.686246198829013E-4\n",
       "415        1307  0.00013847138974055706  1.3847138974055706E-4"
      ]
     },
     "execution_count": 369,
     "metadata": {},
     "output_type": "execute_result"
    }
   ],
   "source": [
    "predict[predict['python预测结果'] != predict['pmml预测结果']]"
   ]
  },
  {
   "cell_type": "code",
   "execution_count": null,
   "metadata": {},
   "outputs": [],
   "source": []
  }
 ],
 "metadata": {
  "kernelspec": {
   "display_name": "Python 3",
   "language": "python",
   "name": "python3"
  },
  "language_info": {
   "codemirror_mode": {
    "name": "ipython",
    "version": 3
   },
   "file_extension": ".py",
   "mimetype": "text/x-python",
   "name": "python",
   "nbconvert_exporter": "python",
   "pygments_lexer": "ipython3",
   "version": "3.6.5"
  },
  "toc": {
   "base_numbering": 1,
   "nav_menu": {},
   "number_sections": true,
   "sideBar": true,
   "skip_h1_title": false,
   "title_cell": "Table of Contents",
   "title_sidebar": "Contents",
   "toc_cell": false,
   "toc_position": {},
   "toc_section_display": true,
   "toc_window_display": false
  },
  "varInspector": {
   "cols": {
    "lenName": 16,
    "lenType": 16,
    "lenVar": 40
   },
   "kernels_config": {
    "python": {
     "delete_cmd_postfix": "",
     "delete_cmd_prefix": "del ",
     "library": "var_list.py",
     "varRefreshCmd": "print(var_dic_list())"
    },
    "r": {
     "delete_cmd_postfix": ") ",
     "delete_cmd_prefix": "rm(",
     "library": "var_list.r",
     "varRefreshCmd": "cat(var_dic_list()) "
    }
   },
   "types_to_exclude": [
    "module",
    "function",
    "builtin_function_or_method",
    "instance",
    "_Feature"
   ],
   "window_display": false
  }
 },
 "nbformat": 4,
 "nbformat_minor": 2
}
